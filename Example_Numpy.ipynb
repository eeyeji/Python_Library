{
 "cells": [
  {
   "cell_type": "code",
   "execution_count": 1,
   "metadata": {},
   "outputs": [],
   "source": [
    "import numpy as np"
   ]
  },
  {
   "cell_type": "code",
   "execution_count": 8,
   "metadata": {},
   "outputs": [
    {
     "name": "stdout",
     "output_type": "stream",
     "text": [
      "[0. 0. 0. 0. 0. 0. 0. 0. 0. 0.]\n"
     ]
    }
   ],
   "source": [
    "zero = np.zeros(10)\n",
    "print(zero)"
   ]
  },
  {
   "cell_type": "code",
   "execution_count": 10,
   "metadata": {},
   "outputs": [
    {
     "name": "stdout",
     "output_type": "stream",
     "text": [
      "[0. 0. 0. 0. 1. 0. 0. 0. 0. 0.]\n"
     ]
    }
   ],
   "source": [
    "zero[4]=1\n",
    "print(zero)"
   ]
  },
  {
   "cell_type": "code",
   "execution_count": 11,
   "metadata": {},
   "outputs": [
    {
     "name": "stdout",
     "output_type": "stream",
     "text": [
      "[10 11 12 13 14 15 16 17 18 19 20 21 22 23 24 25 26 27 28 29 30 31 32 33\n",
      " 34 35 36 37 38 39 40 41 42 43 44 45 46 47 48 49]\n"
     ]
    }
   ],
   "source": [
    "arr = np.arange(10, 50)\n",
    "print(arr)"
   ]
  },
  {
   "cell_type": "code",
   "execution_count": 13,
   "metadata": {},
   "outputs": [
    {
     "name": "stdout",
     "output_type": "stream",
     "text": [
      "[[0 1 2]\n",
      " [3 4 5]\n",
      " [6 7 8]]\n"
     ]
    }
   ],
   "source": [
    "arr = np.arange(9).reshape(3, 3)\n",
    "print(arr)"
   ]
  },
  {
   "cell_type": "code",
   "execution_count": 19,
   "metadata": {},
   "outputs": [
    {
     "name": "stdout",
     "output_type": "stream",
     "text": [
      "[[[0.92475867 0.02248477 0.64973904]\n",
      "  [0.31564416 0.18713056 0.92089965]\n",
      "  [0.87735761 0.47998401 0.32419447]]\n",
      "\n",
      " [[0.05242499 0.73758784 0.69560112]\n",
      "  [0.81852181 0.99793908 0.33632507]\n",
      "  [0.21153847 0.94440747 0.2407844 ]]\n",
      "\n",
      " [[0.32242358 0.20799446 0.61011068]\n",
      "  [0.57898639 0.34617711 0.1210686 ]\n",
      "  [0.70860213 0.37623868 0.83172108]]]\n"
     ]
    }
   ],
   "source": [
    "arr = np.random.random((3, 3, 3))\n",
    "print(arr)"
   ]
  },
  {
   "cell_type": "code",
   "execution_count": 18,
   "metadata": {},
   "outputs": [
    {
     "name": "stdout",
     "output_type": "stream",
     "text": [
      "[[[7 8 7]\n",
      "  [1 5 4]\n",
      "  [5 1 6]]\n",
      "\n",
      " [[3 5 7]\n",
      "  [8 8 3]\n",
      "  [7 6 3]]\n",
      "\n",
      " [[1 2 8]\n",
      "  [6 1 2]\n",
      "  [1 4 5]]]\n"
     ]
    }
   ],
   "source": [
    "arr = np.random.randint(1, 9, size =(3, 3, 3))\n",
    "print(arr)"
   ]
  },
  {
   "cell_type": "code",
   "execution_count": 22,
   "metadata": {},
   "outputs": [
    {
     "name": "stdout",
     "output_type": "stream",
     "text": [
      "[0.22309204 0.36474986 0.63615801 0.94344061 0.92740938 0.31663328\n",
      " 0.03030132 0.05449921 0.40158836 0.48274732 0.04439324 0.31846771\n",
      " 0.05057164 0.75235815 0.60107505 0.48110012 0.38312126 0.73581456\n",
      " 0.69090487 0.00176197 0.5833556  0.54863349 0.45766125 0.4144227\n",
      " 0.42677036 0.28979333 0.35877177 0.03146245 0.84790779 0.08400427]\n",
      "0.41609903283449845\n"
     ]
    }
   ],
   "source": [
    "#전체요소가 30인 numpy 배열 만들기\n",
    "arr = np.random.random(30)\n",
    "print(arr)\n",
    "#그 배열의 평균값 구하기\n",
    "print(np.mean(arr))"
   ]
  },
  {
   "cell_type": "code",
   "execution_count": null,
   "metadata": {},
   "outputs": [],
   "source": []
  },
  {
   "cell_type": "code",
   "execution_count": null,
   "metadata": {},
   "outputs": [],
   "source": []
  },
  {
   "cell_type": "code",
   "execution_count": null,
   "metadata": {},
   "outputs": [],
   "source": []
  }
 ],
 "metadata": {
  "kernelspec": {
   "display_name": "Python 3.9.12 ('base')",
   "language": "python",
   "name": "python3"
  },
  "language_info": {
   "codemirror_mode": {
    "name": "ipython",
    "version": 3
   },
   "file_extension": ".py",
   "mimetype": "text/x-python",
   "name": "python",
   "nbconvert_exporter": "python",
   "pygments_lexer": "ipython3",
   "version": "3.9.12"
  },
  "orig_nbformat": 4,
  "vscode": {
   "interpreter": {
    "hash": "a077222d77dfe082b8f1dd562ad70e458ac2ab76993a0b248ab0476e32e9e8dd"
   }
  }
 },
 "nbformat": 4,
 "nbformat_minor": 2
}
